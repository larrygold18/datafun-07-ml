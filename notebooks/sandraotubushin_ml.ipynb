{
 "cells": [
  {
   "cell_type": "markdown",
   "id": "e9e83688",
   "metadata": {},
   "source": [
    "# P7: Predictive ML Project  \n",
    "**Author:** Sandra Otubushin \n",
    "\n",
    "[GitHub Repository Link](https://github.com/larrygold18/datafun-07-ml)\n"
   ]
  },
  {
   "cell_type": "code",
   "execution_count": 2,
   "id": "f4d4d9ce",
   "metadata": {},
   "outputs": [
    {
     "name": "stdout",
     "output_type": "stream",
     "text": [
      "Interpreter: c:\\Users\\larry\\Documents\\projects\\datafun-07-ml\\.venv312\\Scripts\\python.exe\n",
      "NumPy: 2.3.3\n",
      "Pandas: 2.3.3\n",
      "Matplotlib: 3.10.6\n",
      "Seaborn: 0.13.2\n",
      "SciPy: 1.16.2\n",
      "Sklearn: 1.7.2\n",
      "✅ All scientific libraries imported successfully!\n"
     ]
    }
   ],
   "source": [
    "import sys\n",
    "print(\"Interpreter:\", sys.executable)\n",
    "\n",
    "import numpy as np, pandas as pd, matplotlib, seaborn, scipy, sklearn\n",
    "print(\"NumPy:\", np.__version__)\n",
    "print(\"Pandas:\", pd.__version__)\n",
    "print(\"Matplotlib:\", matplotlib.__version__)\n",
    "print(\"Seaborn:\", seaborn.__version__)\n",
    "print(\"SciPy:\", scipy.__version__)\n",
    "print(\"Sklearn:\", sklearn.__version__)\n",
    "print(\"✅ All scientific libraries imported successfully!\")\n"
   ]
  },
  {
   "cell_type": "code",
   "execution_count": null,
   "id": "75af8277",
   "metadata": {},
   "outputs": [],
   "source": [
    "import numpy as np, pandas as pd, matplotlib.pyplot as plt, seaborn as sns\n",
    "pd.set_option('display.precision', 2)\n",
    "sns.set_theme()\n"
   ]
  },
  {
   "cell_type": "markdown",
   "id": "35269731",
   "metadata": {},
   "source": [
    "## Part 1 - Chart a Straight Line\n"
   ]
  },
  {
   "cell_type": "code",
   "execution_count": null,
   "id": "0ca2c224",
   "metadata": {},
   "outputs": [],
   "source": [
    "# Create Celsius values from -20°C to 50°C, step 5\n",
    "df_cf = pd.DataFrame({\"Celsius\": np.arange(-20, 51, 5)})\n",
    "# Straight-line conversion: F = 1.8*C + 32  =>  y = m*x + b\n",
    "m, b = 1.8, 32\n",
    "df_cf[\"Fahrenheit\"] = m*df_cf[\"Celsius\"] + b\n",
    "\n",
    "df_cf.head()  # quick peek\n"
   ]
  },
  {
   "cell_type": "code",
   "execution_count": null,
   "id": "523650ca",
   "metadata": {},
   "outputs": [],
   "source": [
    "# Scatter + regression line (straight line)\n",
    "fig = plt.figure(figsize=(6,4))\n",
    "sns.regplot(x=\"Celsius\", y=\"Fahrenheit\", data=df_cf, ci=None)  # uses the DataFrame\n",
    "plt.title(\"Celsius vs Fahrenheit (Straight Line)\")\n",
    "plt.xlabel(\"Celsius (°C)\")\n",
    "plt.ylabel(\"Fahrenheit (°F)\")\n",
    "plt.tight_layout()\n",
    "plt.savefig(\"../charts/part1_c_vs_f.png\", dpi=200)  # file saved in /charts\n",
    "plt.show()\n"
   ]
  },
  {
   "cell_type": "code",
   "execution_count": null,
   "id": "73495150",
   "metadata": {},
   "outputs": [],
   "source": [
    "# Check that y = m*x + b exactly reproduces Fahrenheit\n",
    "check = (df_cf[\"Fahrenheit\"] - (m*df_cf[\"Celsius\"] + b)).abs().max()\n",
    "print(\"Max absolute diff from y=mx+b:\", check)\n"
   ]
  }
 ],
 "metadata": {
  "kernelspec": {
   "display_name": ".venv312",
   "language": "python",
   "name": "python3"
  },
  "language_info": {
   "codemirror_mode": {
    "name": "ipython",
    "version": 3
   },
   "file_extension": ".py",
   "mimetype": "text/x-python",
   "name": "python",
   "nbconvert_exporter": "python",
   "pygments_lexer": "ipython3",
   "version": "3.12.10"
  }
 },
 "nbformat": 4,
 "nbformat_minor": 5
}
