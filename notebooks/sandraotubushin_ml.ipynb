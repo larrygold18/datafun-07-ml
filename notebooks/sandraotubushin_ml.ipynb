{
 "cells": [
  {
   "cell_type": "markdown",
   "id": "e9e83688",
   "metadata": {},
   "source": [
    "# P7: Predictive ML Project  \n",
    "**Author:** Sandra Otubushin \n",
    "\n",
    "[GitHub Repository Link](https://github.com/larrygold18/datafun-07-ml)\n"
   ]
  },
  {
   "cell_type": "code",
   "execution_count": 48,
   "id": "f4d4d9ce",
   "metadata": {},
   "outputs": [
    {
     "name": "stdout",
     "output_type": "stream",
     "text": [
      "Interpreter: c:\\Users\\larry\\Documents\\projects\\datafun-07-ml\\.venv312\\Scripts\\python.exe\n",
      "NumPy: 2.3.3\n",
      "Pandas: 2.3.3\n",
      "Matplotlib: 3.10.6\n",
      "Seaborn: 0.13.2\n",
      "SciPy: 1.16.2\n",
      "Sklearn: 1.7.2\n",
      "✅ All scientific libraries imported successfully!\n"
     ]
    }
   ],
   "source": [
    "import sys\n",
    "print(\"Interpreter:\", sys.executable)\n",
    "\n",
    "import numpy as np, pandas as pd, matplotlib, seaborn, scipy, sklearn\n",
    "print(\"NumPy:\", np.__version__)\n",
    "print(\"Pandas:\", pd.__version__)\n",
    "print(\"Matplotlib:\", matplotlib.__version__)\n",
    "print(\"Seaborn:\", seaborn.__version__)\n",
    "print(\"SciPy:\", scipy.__version__)\n",
    "print(\"Sklearn:\", sklearn.__version__)\n",
    "print(\"✅ All scientific libraries imported successfully!\")\n"
   ]
  },
  {
   "cell_type": "code",
   "execution_count": 49,
   "id": "75af8277",
   "metadata": {},
   "outputs": [],
   "source": [
    "import numpy as np, pandas as pd, matplotlib.pyplot as plt, seaborn as sns\n",
    "pd.set_option('display.precision', 2)\n",
    "sns.set_theme()\n"
   ]
  },
  {
   "cell_type": "markdown",
   "id": "35269731",
   "metadata": {},
   "source": [
    "## Part 1 - Chart a Straight Line\n"
   ]
  },
  {
   "cell_type": "code",
   "execution_count": 50,
   "id": "0ca2c224",
   "metadata": {},
   "outputs": [
    {
     "data": {
      "text/html": [
       "<div>\n",
       "<style scoped>\n",
       "    .dataframe tbody tr th:only-of-type {\n",
       "        vertical-align: middle;\n",
       "    }\n",
       "\n",
       "    .dataframe tbody tr th {\n",
       "        vertical-align: top;\n",
       "    }\n",
       "\n",
       "    .dataframe thead th {\n",
       "        text-align: right;\n",
       "    }\n",
       "</style>\n",
       "<table border=\"1\" class=\"dataframe\">\n",
       "  <thead>\n",
       "    <tr style=\"text-align: right;\">\n",
       "      <th></th>\n",
       "      <th>Celsius</th>\n",
       "      <th>Fahrenheit</th>\n",
       "    </tr>\n",
       "  </thead>\n",
       "  <tbody>\n",
       "    <tr>\n",
       "      <th>0</th>\n",
       "      <td>-20</td>\n",
       "      <td>-4.0</td>\n",
       "    </tr>\n",
       "    <tr>\n",
       "      <th>1</th>\n",
       "      <td>-15</td>\n",
       "      <td>5.0</td>\n",
       "    </tr>\n",
       "    <tr>\n",
       "      <th>2</th>\n",
       "      <td>-10</td>\n",
       "      <td>14.0</td>\n",
       "    </tr>\n",
       "    <tr>\n",
       "      <th>3</th>\n",
       "      <td>-5</td>\n",
       "      <td>23.0</td>\n",
       "    </tr>\n",
       "    <tr>\n",
       "      <th>4</th>\n",
       "      <td>0</td>\n",
       "      <td>32.0</td>\n",
       "    </tr>\n",
       "  </tbody>\n",
       "</table>\n",
       "</div>"
      ],
      "text/plain": [
       "   Celsius  Fahrenheit\n",
       "0      -20        -4.0\n",
       "1      -15         5.0\n",
       "2      -10        14.0\n",
       "3       -5        23.0\n",
       "4        0        32.0"
      ]
     },
     "execution_count": 50,
     "metadata": {},
     "output_type": "execute_result"
    }
   ],
   "source": [
    "# Create Celsius values from -20°C to 50°C, step 5\n",
    "df_cf = pd.DataFrame({\"Celsius\": np.arange(-20, 51, 5)})\n",
    "# Straight-line conversion: F = 1.8*C + 32  =>  y = m*x + b\n",
    "m, b = 1.8, 32\n",
    "df_cf[\"Fahrenheit\"] = m*df_cf[\"Celsius\"] + b\n",
    "\n",
    "df_cf.head()  # quick peek\n"
   ]
  },
  {
   "cell_type": "code",
   "execution_count": 51,
   "id": "523650ca",
   "metadata": {},
   "outputs": [
    {
     "data": {
      "image/png": "[encoded data removed]",
      "text/plain": [
       "<Figure size 600x400 with 1 Axes>"
      ]
     },
     "metadata": {},
     "output_type": "display_data"
    }
   ],
   "source": [
    "# Scatter + regression line (straight line)\n",
    "fig = plt.figure(figsize=(6,4))\n",
    "sns.regplot(x=\"Celsius\", y=\"Fahrenheit\", data=df_cf, ci=None)  # uses the DataFrame\n",
    "plt.title(\"Celsius vs Fahrenheit (Straight Line)\")\n",
    "plt.xlabel(\"Celsius (°C)\")\n",
    "plt.ylabel(\"Fahrenheit (°F)\")\n",
    "plt.tight_layout()\n",
    "plt.savefig(\"../charts/part1_c_vs_f.png\", dpi=200)  # file saved in /charts\n",
    "plt.show()\n"
   ]
  },
  {
   "cell_type": "code",
   "execution_count": 52,
   "id": "73495150",
   "metadata": {},
   "outputs": [
    {
     "name": "stdout",
     "output_type": "stream",
     "text": [
      "Max absolute diff from y=mx+b: 0.0\n"
     ]
    }
   ],
   "source": [
    "# Check that y = m*x + b exactly reproduces Fahrenheit\n",
    "check = (df_cf[\"Fahrenheit\"] - (m*df_cf[\"Celsius\"] + b)).abs().max()\n",
    "print(\"Max absolute diff from y=mx+b:\", check)\n"
   ]
  },
  {
   "cell_type": "markdown",
   "id": "5e5a556f",
   "metadata": {},
   "source": [
    "## Part 2 - Prediction\n",
    "### Section 1 - Data Acquisition\n"
   ]
  },
  {
   "cell_type": "code",
   "execution_count": 53,
   "id": "6ed5d7ea",
   "metadata": {},
   "outputs": [
    {
     "data": {
      "text/html": [
       "<div>\n",
       "<style scoped>\n",
       "    .dataframe tbody tr th:only-of-type {\n",
       "        vertical-align: middle;\n",
       "    }\n",
       "\n",
       "    .dataframe tbody tr th {\n",
       "        vertical-align: top;\n",
       "    }\n",
       "\n",
       "    .dataframe thead th {\n",
       "        text-align: right;\n",
       "    }\n",
       "</style>\n",
       "<table border=\"1\" class=\"dataframe\">\n",
       "  <thead>\n",
       "    <tr style=\"text-align: right;\">\n",
       "      <th></th>\n",
       "      <th>Date</th>\n",
       "      <th>Value</th>\n",
       "      <th>Anomaly</th>\n",
       "    </tr>\n",
       "  </thead>\n",
       "  <tbody>\n",
       "    <tr>\n",
       "      <th>0</th>\n",
       "      <td>189501</td>\n",
       "      <td>34.2</td>\n",
       "      <td>-3.2</td>\n",
       "    </tr>\n",
       "    <tr>\n",
       "      <th>1</th>\n",
       "      <td>189601</td>\n",
       "      <td>34.7</td>\n",
       "      <td>-2.7</td>\n",
       "    </tr>\n",
       "    <tr>\n",
       "      <th>2</th>\n",
       "      <td>189701</td>\n",
       "      <td>35.5</td>\n",
       "      <td>-1.9</td>\n",
       "    </tr>\n",
       "    <tr>\n",
       "      <th>3</th>\n",
       "      <td>189801</td>\n",
       "      <td>39.6</td>\n",
       "      <td>2.2</td>\n",
       "    </tr>\n",
       "    <tr>\n",
       "      <th>4</th>\n",
       "      <td>189901</td>\n",
       "      <td>36.4</td>\n",
       "      <td>-1.0</td>\n",
       "    </tr>\n",
       "  </tbody>\n",
       "</table>\n",
       "</div>"
      ],
      "text/plain": [
       "     Date  Value  Anomaly\n",
       "0  189501   34.2     -3.2\n",
       "1  189601   34.7     -2.7\n",
       "2  189701   35.5     -1.9\n",
       "3  189801   39.6      2.2\n",
       "4  189901   36.4     -1.0"
      ]
     },
     "execution_count": 53,
     "metadata": {},
     "output_type": "execute_result"
    }
   ],
   "source": [
    "# Load NYC January average high temps from /data\n",
    "# Adjust filename if yours is different\n",
    "nyc_df = pd.read_csv(\"../data/ave_hi_nyc_jan_1895-2018.csv\")\n",
    "nyc_df.head()\n",
    "\n"
   ]
  },
  {
   "cell_type": "markdown",
   "id": "b85b0ad6",
   "metadata": {},
   "source": [
    "### Section 2 - Data Inspection\n"
   ]
  },
  {
   "cell_type": "code",
   "execution_count": 54,
   "id": "ad436915",
   "metadata": {},
   "outputs": [
    {
     "name": "stdout",
     "output_type": "stream",
     "text": [
      "<class 'pandas.core.frame.DataFrame'>\n",
      "RangeIndex: 124 entries, 0 to 123\n",
      "Data columns (total 3 columns):\n",
      " #   Column   Non-Null Count  Dtype  \n",
      "---  ------   --------------  -----  \n",
      " 0   Date     124 non-null    int64  \n",
      " 1   Value    124 non-null    float64\n",
      " 2   Anomaly  124 non-null    float64\n",
      "dtypes: float64(2), int64(1)\n",
      "memory usage: 3.0 KB\n"
     ]
    },
    {
     "data": {
      "text/plain": [
       "(       Date  Value  Anomaly\n",
       " 119  201401   35.5     -1.9\n",
       " 120  201501   36.1     -1.3\n",
       " 121  201601   40.8      3.4\n",
       " 122  201701   42.8      5.4\n",
       " 123  201801   38.7      1.3,\n",
       " None)"
      ]
     },
     "execution_count": 54,
     "metadata": {},
     "output_type": "execute_result"
    }
   ],
   "source": [
    "nyc_df.tail(), nyc_df.info()\n"
   ]
  },
  {
   "cell_type": "markdown",
   "id": "e8d01154",
   "metadata": {},
   "source": [
    "### Section 3 - Data Cleaning\n"
   ]
  },
  {
   "cell_type": "code",
   "execution_count": 55,
   "id": "9857a62b",
   "metadata": {},
   "outputs": [
    {
     "data": {
      "text/html": [
       "<div>\n",
       "<style scoped>\n",
       "    .dataframe tbody tr th:only-of-type {\n",
       "        vertical-align: middle;\n",
       "    }\n",
       "\n",
       "    .dataframe tbody tr th {\n",
       "        vertical-align: top;\n",
       "    }\n",
       "\n",
       "    .dataframe thead th {\n",
       "        text-align: right;\n",
       "    }\n",
       "</style>\n",
       "<table border=\"1\" class=\"dataframe\">\n",
       "  <thead>\n",
       "    <tr style=\"text-align: right;\">\n",
       "      <th></th>\n",
       "      <th>Year</th>\n",
       "      <th>Temperature</th>\n",
       "    </tr>\n",
       "  </thead>\n",
       "  <tbody>\n",
       "    <tr>\n",
       "      <th>0</th>\n",
       "      <td>1895</td>\n",
       "      <td>34.2</td>\n",
       "    </tr>\n",
       "    <tr>\n",
       "      <th>1</th>\n",
       "      <td>1896</td>\n",
       "      <td>34.7</td>\n",
       "    </tr>\n",
       "    <tr>\n",
       "      <th>2</th>\n",
       "      <td>1897</td>\n",
       "      <td>35.5</td>\n",
       "    </tr>\n",
       "    <tr>\n",
       "      <th>3</th>\n",
       "      <td>1898</td>\n",
       "      <td>39.6</td>\n",
       "    </tr>\n",
       "    <tr>\n",
       "      <th>4</th>\n",
       "      <td>1899</td>\n",
       "      <td>36.4</td>\n",
       "    </tr>\n",
       "  </tbody>\n",
       "</table>\n",
       "</div>"
      ],
      "text/plain": [
       "   Year  Temperature\n",
       "0  1895         34.2\n",
       "1  1896         34.7\n",
       "2  1897         35.5\n",
       "3  1898         39.6\n",
       "4  1899         36.4"
      ]
     },
     "execution_count": 55,
     "metadata": {},
     "output_type": "execute_result"
    }
   ],
   "source": [
    "# --- Section 3: Data Cleaning ---\n",
    "\n",
    "# Rename columns to match our project standard\n",
    "nyc_df = nyc_df.rename(columns={\n",
    "    \"Date\": \"Year\",\n",
    "    \"Value\": \"Temperature\"\n",
    "})\n",
    "\n",
    "# Extract only the 4-digit year (e.g., 189501 → 1895)\n",
    "nyc_df[\"Year\"] = nyc_df[\"Year\"].astype(str).str.slice(0, 4).astype(int)\n",
    "\n",
    "# Keep only the two relevant columns and drop missing data\n",
    "nyc_df = nyc_df[[\"Year\", \"Temperature\"]].dropna()\n",
    "\n",
    "# Convert temperature to float\n",
    "nyc_df[\"Temperature\"] = nyc_df[\"Temperature\"].astype(float)\n",
    "\n",
    "# Display a preview to confirm cleaning\n",
    "nyc_df.head()\n"
   ]
  },
  {
   "cell_type": "markdown",
   "id": "d902f9fd",
   "metadata": {},
   "source": [
    "### Section 4 - Descriptive Statistics\n"
   ]
  },
  {
   "cell_type": "code",
   "execution_count": 56,
   "id": "e9b47f0d",
   "metadata": {},
   "outputs": [
    {
     "data": {
      "text/html": [
       "<div>\n",
       "<style scoped>\n",
       "    .dataframe tbody tr th:only-of-type {\n",
       "        vertical-align: middle;\n",
       "    }\n",
       "\n",
       "    .dataframe tbody tr th {\n",
       "        vertical-align: top;\n",
       "    }\n",
       "\n",
       "    .dataframe thead th {\n",
       "        text-align: right;\n",
       "    }\n",
       "</style>\n",
       "<table border=\"1\" class=\"dataframe\">\n",
       "  <thead>\n",
       "    <tr style=\"text-align: right;\">\n",
       "      <th></th>\n",
       "      <th>Year</th>\n",
       "      <th>Temperature</th>\n",
       "    </tr>\n",
       "  </thead>\n",
       "  <tbody>\n",
       "    <tr>\n",
       "      <th>count</th>\n",
       "      <td>124.00</td>\n",
       "      <td>124.00</td>\n",
       "    </tr>\n",
       "    <tr>\n",
       "      <th>mean</th>\n",
       "      <td>1956.50</td>\n",
       "      <td>37.60</td>\n",
       "    </tr>\n",
       "    <tr>\n",
       "      <th>std</th>\n",
       "      <td>35.94</td>\n",
       "      <td>4.54</td>\n",
       "    </tr>\n",
       "    <tr>\n",
       "      <th>min</th>\n",
       "      <td>1895.00</td>\n",
       "      <td>26.10</td>\n",
       "    </tr>\n",
       "    <tr>\n",
       "      <th>25%</th>\n",
       "      <td>1925.75</td>\n",
       "      <td>34.58</td>\n",
       "    </tr>\n",
       "    <tr>\n",
       "      <th>50%</th>\n",
       "      <td>1956.50</td>\n",
       "      <td>37.60</td>\n",
       "    </tr>\n",
       "    <tr>\n",
       "      <th>75%</th>\n",
       "      <td>1987.25</td>\n",
       "      <td>40.60</td>\n",
       "    </tr>\n",
       "    <tr>\n",
       "      <th>max</th>\n",
       "      <td>2018.00</td>\n",
       "      <td>47.60</td>\n",
       "    </tr>\n",
       "  </tbody>\n",
       "</table>\n",
       "</div>"
      ],
      "text/plain": [
       "          Year  Temperature\n",
       "count   124.00       124.00\n",
       "mean   1956.50        37.60\n",
       "std      35.94         4.54\n",
       "min    1895.00        26.10\n",
       "25%    1925.75        34.58\n",
       "50%    1956.50        37.60\n",
       "75%    1987.25        40.60\n",
       "max    2018.00        47.60"
      ]
     },
     "execution_count": 56,
     "metadata": {},
     "output_type": "execute_result"
    }
   ],
   "source": [
    "pd.set_option('display.precision', 2)\n",
    "nyc_df.describe()\n",
    "\n"
   ]
  },
  {
   "cell_type": "markdown",
   "id": "04fd32df",
   "metadata": {},
   "source": [
    "### Section 5 - Build the Model\n"
   ]
  },
  {
   "cell_type": "code",
   "execution_count": 57,
   "id": "cdc2fb61",
   "metadata": {},
   "outputs": [
    {
     "name": "stdout",
     "output_type": "stream",
     "text": [
      "Slope (m): 0.014771361132966163\n",
      "Intercept (b): 8.694993233674289\n",
      "R-value: 0.1169376670075292\n",
      "P-value: 0.19586679787456207\n",
      "Standard error: 0.011357855112603288\n"
     ]
    }
   ],
   "source": [
    "from scipy import stats\n",
    "\n",
    "lin = stats.linregress(x=nyc_df[\"Year\"], y=nyc_df[\"Temperature\"])\n",
    "print(\"Slope (m):\", lin.slope)\n",
    "print(\"Intercept (b):\", lin.intercept)\n",
    "print(\"R-value:\", lin.rvalue)\n",
    "print(\"P-value:\", lin.pvalue)\n",
    "print(\"Standard error:\", lin.stderr)\n",
    "\n"
   ]
  },
  {
   "cell_type": "markdown",
   "id": "a2d45fa2",
   "metadata": {},
   "source": [
    "### Section 6 - Predict\n"
   ]
  },
  {
   "cell_type": "code",
   "execution_count": 58,
   "id": "bdb459cc",
   "metadata": {},
   "outputs": [
    {
     "name": "stdout",
     "output_type": "stream",
     "text": [
      "Predicted Avg High in Jan 2024: 38.59 °F\n"
     ]
    }
   ],
   "source": [
    "pred_2024_part2 = lin.slope * 2024 + lin.intercept\n",
    "print(\"Predicted Avg High in Jan 2024:\", round(pred_2024_part2, 2), \"°F\")\n"
   ]
  },
  {
   "cell_type": "markdown",
   "id": "69db66ae",
   "metadata": {},
   "source": [
    "### Section 7 - Visualizations\n"
   ]
  },
  {
   "cell_type": "code",
   "execution_count": 59,
   "id": "6c0f41c1",
   "metadata": {},
   "outputs": [
    {
     "data": {
      "image/png": "[encoded data removed]",
      "text/plain": [
       "<Figure size 700x400 with 1 Axes>"
      ]
     },
     "metadata": {},
     "output_type": "display_data"
    }
   ],
   "source": [
    "import numpy as np\n",
    "import matplotlib.pyplot as plt\n",
    "import seaborn as sns\n",
    "\n",
    "fig = plt.figure(figsize=(7,4))\n",
    "sns.scatterplot(x=\"Year\", y=\"Temperature\", data=nyc_df, s=20, color=\"blue\")\n",
    "\n",
    "# best-fit line\n",
    "xs = np.linspace(nyc_df[\"Year\"].min(), 2024, 200)\n",
    "ys = lin.slope * xs + lin.intercept\n",
    "plt.plot(xs, ys, color=\"red\", linewidth=2)\n",
    "\n",
    "plt.title(\"NYC Avg High in January — SciPy Best-Fit Line\")\n",
    "plt.xlabel(\"Year\")\n",
    "plt.ylabel(\"Temperature (°F)\")\n",
    "plt.tight_layout()\n",
    "plt.savefig(\"../charts/part2_nyc_scipy.png\", dpi=200)\n",
    "plt.show()\n"
   ]
  },
  {
   "cell_type": "markdown",
   "id": "654722ab",
   "metadata": {},
   "source": [
    "## Part 3 - Prediction\n",
    "### Section 1 - Build the Model\n"
   ]
  },
  {
   "cell_type": "code",
   "execution_count": null,
   "id": "203e1f1c",
   "metadata": {},
   "outputs": [],
   "source": [
    "from sklearn.model_selection import train_test_split\n",
    "from sklearn.linear_model import LinearRegression\n",
    "from sklearn import metrics\n",
    "\n",
    "# Separate features (X) and target (y)\n",
    "X = nyc_df[[\"Year\"]]\n",
    "y = nyc_df[\"Temperature\"]\n",
    "\n",
    "# Split data into training and testing sets (75% train, 25% test)\n",
    "X_train, X_test, y_train, y_test = train_test_split(\n",
    "    X, y, test_size=0.25, random_state=11, shuffle=True\n",
    ")\n",
    "\n",
    "# Train the model\n",
    "linreg = LinearRegression()\n",
    "linreg.fit(X_train, y_train)\n",
    "\n",
    "print(\"Coefficient (slope):\", linreg.coef_[0])\n",
    "print(\"Intercept (b):\", linreg.intercept_)\n"
   ]
  },
  {
   "cell_type": "markdown",
   "id": "5c9a6083",
   "metadata": {},
   "source": [
    "### Section 2 - Test the Model\n"
   ]
  },
  {
   "cell_type": "code",
   "execution_count": null,
   "id": "4752b333",
   "metadata": {},
   "outputs": [],
   "source": [
    "# Evaluate model performance\n",
    "r2_train = linreg.score(X_train, y_train)\n",
    "r2_test  = linreg.score(X_test,  y_test)\n",
    "y_pred_test = linreg.predict(X_test)\n",
    "mse_test = metrics.mean_squared_error(y_test, y_pred_test)\n",
    "\n",
    "print(\"R² (train):\", round(r2_train, 3))\n",
    "print(\"R² (test):\",  round(r2_test, 3))\n",
    "print(\"MSE (test):\", round(mse_test, 3))\n"
   ]
  },
  {
   "cell_type": "markdown",
   "id": "f56ca053",
   "metadata": {},
   "source": [
    "### Section 3 - Predict\n"
   ]
  },
  {
   "cell_type": "code",
   "execution_count": null,
   "id": "70dc50c3",
   "metadata": {},
   "outputs": [],
   "source": [
    "pred_2024_part3 = linreg.predict([[2024]])[0]\n",
    "print(\"Predicted Avg High for Jan 2024 (sklearn):\", round(pred_2024_part3, 2), \"°F\")\n"
   ]
  },
  {
   "cell_type": "markdown",
   "id": "4e6d060c",
   "metadata": {},
   "source": [
    "### Section 4 - Visualizations\n"
   ]
  },
  {
   "cell_type": "code",
   "execution_count": null,
   "id": "d23510d6",
   "metadata": {},
   "outputs": [],
   "source": [
    "fig = plt.figure(figsize=(7,4))\n",
    "sns.scatterplot(x=\"Year\", y=\"Temperature\", data=nyc_df, s=25, color=\"blue\", label=\"Actual\")\n",
    "\n",
    "# Generate prediction line\n",
    "x_line = np.linspace(nyc_df[\"Year\"].min(), 2024, 200).reshape(-1,1)\n",
    "y_line = linreg.predict(x_line)\n",
    "\n",
    "plt.plot(x_line, y_line, color=\"red\", linewidth=2, label=\"LinearRegression fit\")\n",
    "plt.title(\"NYC Avg High in January — scikit-learn Regression\")\n",
    "plt.xlabel(\"Year\")\n",
    "plt.ylabel(\"Temperature (°F)\")\n",
    "plt.legend()\n",
    "plt.tight_layout()\n",
    "plt.savefig(\"../charts/part3_nyc_sklearn.png\", dpi=200)\n",
    "plt.show()\n"
   ]
  }
 ],
 "metadata": {
  "kernelspec": {
   "display_name": ".venv312",
   "language": "python",
   "name": "python3"
  },
  "language_info": {
   "codemirror_mode": {
    "name": "ipython",
    "version": 3
   },
   "file_extension": ".py",
   "mimetype": "text/x-python",
   "name": "python",
   "nbconvert_exporter": "python",
   "pygments_lexer": "ipython3",
   "version": "3.12.10"
  }
 },
 "nbformat": 4,
 "nbformat_minor": 5
}
