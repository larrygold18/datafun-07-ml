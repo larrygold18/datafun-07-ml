{
 "cells": [
  {
   "cell_type": "markdown",
   "id": "e9e83688",
   "metadata": {},
   "source": [
    "# P7: Predictive ML Project  \n",
    "**Author:** Sandra Otubushin \n",
    "\n",
    "[GitHub Repository Link](https://github.com/larrygold18/datafun-07-ml)\n"
   ]
  },
  {
   "cell_type": "code",
   "execution_count": 15,
   "id": "f4d4d9ce",
   "metadata": {},
   "outputs": [
    {
     "name": "stdout",
     "output_type": "stream",
     "text": [
      "Interpreter: c:\\Users\\larry\\Documents\\projects\\datafun-07-ml\\.venv312\\Scripts\\python.exe\n",
      "NumPy: 2.3.3\n",
      "Pandas: 2.3.3\n",
      "Matplotlib: 3.10.6\n",
      "Seaborn: 0.13.2\n",
      "SciPy: 1.16.2\n",
      "Sklearn: 1.7.2\n",
      "✅ All scientific libraries imported successfully!\n"
     ]
    }
   ],
   "source": [
    "import sys\n",
    "print(\"Interpreter:\", sys.executable)\n",
    "\n",
    "import numpy as np, pandas as pd, matplotlib, seaborn, scipy, sklearn\n",
    "print(\"NumPy:\", np.__version__)\n",
    "print(\"Pandas:\", pd.__version__)\n",
    "print(\"Matplotlib:\", matplotlib.__version__)\n",
    "print(\"Seaborn:\", seaborn.__version__)\n",
    "print(\"SciPy:\", scipy.__version__)\n",
    "print(\"Sklearn:\", sklearn.__version__)\n",
    "print(\"✅ All scientific libraries imported successfully!\")\n"
   ]
  },
  {
   "cell_type": "code",
   "execution_count": 16,
   "id": "75af8277",
   "metadata": {},
   "outputs": [],
   "source": [
    "import numpy as np, pandas as pd, matplotlib.pyplot as plt, seaborn as sns\n",
    "pd.set_option('display.precision', 2)\n",
    "sns.set_theme()\n"
   ]
  },
  {
   "cell_type": "markdown",
   "id": "35269731",
   "metadata": {},
   "source": [
    "## Part 1 - Chart a Straight Line\n"
   ]
  },
  {
   "cell_type": "code",
   "execution_count": 17,
   "id": "0ca2c224",
   "metadata": {},
   "outputs": [
    {
     "data": {
      "text/html": [
       "<div>\n",
       "<style scoped>\n",
       "    .dataframe tbody tr th:only-of-type {\n",
       "        vertical-align: middle;\n",
       "    }\n",
       "\n",
       "    .dataframe tbody tr th {\n",
       "        vertical-align: top;\n",
       "    }\n",
       "\n",
       "    .dataframe thead th {\n",
       "        text-align: right;\n",
       "    }\n",
       "</style>\n",
       "<table border=\"1\" class=\"dataframe\">\n",
       "  <thead>\n",
       "    <tr style=\"text-align: right;\">\n",
       "      <th></th>\n",
       "      <th>Celsius</th>\n",
       "      <th>Fahrenheit</th>\n",
       "    </tr>\n",
       "  </thead>\n",
       "  <tbody>\n",
       "    <tr>\n",
       "      <th>0</th>\n",
       "      <td>-20</td>\n",
       "      <td>-4.0</td>\n",
       "    </tr>\n",
       "    <tr>\n",
       "      <th>1</th>\n",
       "      <td>-15</td>\n",
       "      <td>5.0</td>\n",
       "    </tr>\n",
       "    <tr>\n",
       "      <th>2</th>\n",
       "      <td>-10</td>\n",
       "      <td>14.0</td>\n",
       "    </tr>\n",
       "    <tr>\n",
       "      <th>3</th>\n",
       "      <td>-5</td>\n",
       "      <td>23.0</td>\n",
       "    </tr>\n",
       "    <tr>\n",
       "      <th>4</th>\n",
       "      <td>0</td>\n",
       "      <td>32.0</td>\n",
       "    </tr>\n",
       "  </tbody>\n",
       "</table>\n",
       "</div>"
      ],
      "text/plain": [
       "   Celsius  Fahrenheit\n",
       "0      -20        -4.0\n",
       "1      -15         5.0\n",
       "2      -10        14.0\n",
       "3       -5        23.0\n",
       "4        0        32.0"
      ]
     },
     "execution_count": 17,
     "metadata": {},
     "output_type": "execute_result"
    }
   ],
   "source": [
    "# Create Celsius values from -20°C to 50°C, step 5\n",
    "df_cf = pd.DataFrame({\"Celsius\": np.arange(-20, 51, 5)})\n",
    "# Straight-line conversion: F = 1.8*C + 32  =>  y = m*x + b\n",
    "m, b = 1.8, 32\n",
    "df_cf[\"Fahrenheit\"] = m*df_cf[\"Celsius\"] + b\n",
    "\n",
    "df_cf.head()  # quick peek\n"
   ]
  },
  {
   "cell_type": "code",
   "execution_count": 18,
   "id": "523650ca",
   "metadata": {},
   "outputs": [
    {
     "data": {
      "image/png": "[encoded data removed]",
      "text/plain": [
       "<Figure size 600x400 with 1 Axes>"
      ]
     },
     "metadata": {},
     "output_type": "display_data"
    }
   ],
   "source": [
    "# Scatter + regression line (straight line)\n",
    "fig = plt.figure(figsize=(6,4))\n",
    "sns.regplot(x=\"Celsius\", y=\"Fahrenheit\", data=df_cf, ci=None)  # uses the DataFrame\n",
    "plt.title(\"Celsius vs Fahrenheit (Straight Line)\")\n",
    "plt.xlabel(\"Celsius (°C)\")\n",
    "plt.ylabel(\"Fahrenheit (°F)\")\n",
    "plt.tight_layout()\n",
    "plt.savefig(\"../charts/part1_c_vs_f.png\", dpi=200)  # file saved in /charts\n",
    "plt.show()\n"
   ]
  },
  {
   "cell_type": "code",
   "execution_count": 19,
   "id": "73495150",
   "metadata": {},
   "outputs": [
    {
     "name": "stdout",
     "output_type": "stream",
     "text": [
      "Max absolute diff from y=mx+b: 0.0\n"
     ]
    }
   ],
   "source": [
    "# Check that y = m*x + b exactly reproduces Fahrenheit\n",
    "check = (df_cf[\"Fahrenheit\"] - (m*df_cf[\"Celsius\"] + b)).abs().max()\n",
    "print(\"Max absolute diff from y=mx+b:\", check)\n"
   ]
  },
  {
   "cell_type": "markdown",
   "id": "5e5a556f",
   "metadata": {},
   "source": [
    "## Part 2 - Prediction\n",
    "### Section 1 - Data Acquisition\n"
   ]
  },
  {
   "cell_type": "code",
   "execution_count": 20,
   "id": "6ed5d7ea",
   "metadata": {},
   "outputs": [
    {
     "data": {
      "text/html": [
       "<div>\n",
       "<style scoped>\n",
       "    .dataframe tbody tr th:only-of-type {\n",
       "        vertical-align: middle;\n",
       "    }\n",
       "\n",
       "    .dataframe tbody tr th {\n",
       "        vertical-align: top;\n",
       "    }\n",
       "\n",
       "    .dataframe thead th {\n",
       "        text-align: right;\n",
       "    }\n",
       "</style>\n",
       "<table border=\"1\" class=\"dataframe\">\n",
       "  <thead>\n",
       "    <tr style=\"text-align: right;\">\n",
       "      <th></th>\n",
       "      <th>Date</th>\n",
       "      <th>Value</th>\n",
       "      <th>Anomaly</th>\n",
       "    </tr>\n",
       "  </thead>\n",
       "  <tbody>\n",
       "    <tr>\n",
       "      <th>0</th>\n",
       "      <td>189501</td>\n",
       "      <td>34.2</td>\n",
       "      <td>-3.2</td>\n",
       "    </tr>\n",
       "    <tr>\n",
       "      <th>1</th>\n",
       "      <td>189601</td>\n",
       "      <td>34.7</td>\n",
       "      <td>-2.7</td>\n",
       "    </tr>\n",
       "    <tr>\n",
       "      <th>2</th>\n",
       "      <td>189701</td>\n",
       "      <td>35.5</td>\n",
       "      <td>-1.9</td>\n",
       "    </tr>\n",
       "    <tr>\n",
       "      <th>3</th>\n",
       "      <td>189801</td>\n",
       "      <td>39.6</td>\n",
       "      <td>2.2</td>\n",
       "    </tr>\n",
       "    <tr>\n",
       "      <th>4</th>\n",
       "      <td>189901</td>\n",
       "      <td>36.4</td>\n",
       "      <td>-1.0</td>\n",
       "    </tr>\n",
       "  </tbody>\n",
       "</table>\n",
       "</div>"
      ],
      "text/plain": [
       "     Date  Value  Anomaly\n",
       "0  189501   34.2     -3.2\n",
       "1  189601   34.7     -2.7\n",
       "2  189701   35.5     -1.9\n",
       "3  189801   39.6      2.2\n",
       "4  189901   36.4     -1.0"
      ]
     },
     "execution_count": 20,
     "metadata": {},
     "output_type": "execute_result"
    }
   ],
   "source": [
    "# Load NYC January average high temps from /data\n",
    "# Adjust filename if yours is different\n",
    "nyc_df = pd.read_csv(\"../data/ave_hi_nyc_jan_1895-2018.csv\")\n",
    "nyc_df.head()\n",
    "\n"
   ]
  },
  {
   "cell_type": "markdown",
   "id": "b85b0ad6",
   "metadata": {},
   "source": [
    "### Section 2 - Data Inspection\n"
   ]
  },
  {
   "cell_type": "code",
   "execution_count": 21,
   "id": "ad436915",
   "metadata": {},
   "outputs": [
    {
     "name": "stdout",
     "output_type": "stream",
     "text": [
      "<class 'pandas.core.frame.DataFrame'>\n",
      "RangeIndex: 124 entries, 0 to 123\n",
      "Data columns (total 3 columns):\n",
      " #   Column   Non-Null Count  Dtype  \n",
      "---  ------   --------------  -----  \n",
      " 0   Date     124 non-null    int64  \n",
      " 1   Value    124 non-null    float64\n",
      " 2   Anomaly  124 non-null    float64\n",
      "dtypes: float64(2), int64(1)\n",
      "memory usage: 3.0 KB\n"
     ]
    },
    {
     "data": {
      "text/plain": [
       "(       Date  Value  Anomaly\n",
       " 119  201401   35.5     -1.9\n",
       " 120  201501   36.1     -1.3\n",
       " 121  201601   40.8      3.4\n",
       " 122  201701   42.8      5.4\n",
       " 123  201801   38.7      1.3,\n",
       " None)"
      ]
     },
     "execution_count": 21,
     "metadata": {},
     "output_type": "execute_result"
    }
   ],
   "source": [
    "nyc_df.tail(), nyc_df.info()\n"
   ]
  },
  {
   "cell_type": "markdown",
   "id": "e8d01154",
   "metadata": {},
   "source": [
    "### Section 3 - Data Cleaning\n"
   ]
  },
  {
   "cell_type": "code",
   "execution_count": null,
   "id": "9857a62b",
   "metadata": {},
   "outputs": [
    {
     "ename": "KeyError",
     "evalue": "\"['Temperature'] not in index\"",
     "output_type": "error",
     "traceback": [
      "\u001b[31m---------------------------------------------------------------------------\u001b[39m",
      "\u001b[31mKeyError\u001b[39m                                  Traceback (most recent call last)",
      "\u001b[36mCell\u001b[39m\u001b[36m \u001b[39m\u001b[32mIn[22]\u001b[39m\u001b[32m, line 11\u001b[39m\n\u001b[32m      2\u001b[39m nyc_df = nyc_df.rename(columns={\n\u001b[32m      3\u001b[39m     \u001b[33m\"\u001b[39m\u001b[33mDate\u001b[39m\u001b[33m\"\u001b[39m: \u001b[33m\"\u001b[39m\u001b[33mYear\u001b[39m\u001b[33m\"\u001b[39m,\n\u001b[32m      4\u001b[39m     \u001b[33m\"\u001b[39m\u001b[33mYear\u001b[39m\u001b[33m\"\u001b[39m: \u001b[33m\"\u001b[39m\u001b[33mYear\u001b[39m\u001b[33m\"\u001b[39m,\n\u001b[32m   (...)\u001b[39m\u001b[32m      7\u001b[39m     \u001b[33m\"\u001b[39m\u001b[33mTemperature\u001b[39m\u001b[33m\"\u001b[39m: \u001b[33m\"\u001b[39m\u001b[33mTemperature\u001b[39m\u001b[33m\"\u001b[39m\n\u001b[32m      8\u001b[39m })\n\u001b[32m     10\u001b[39m \u001b[38;5;66;03m# Keep only the two columns we need\u001b[39;00m\n\u001b[32m---> \u001b[39m\u001b[32m11\u001b[39m nyc_df = \u001b[43mnyc_df\u001b[49m\u001b[43m[\u001b[49m\u001b[43m[\u001b[49m\u001b[33;43m\"\u001b[39;49m\u001b[33;43mYear\u001b[39;49m\u001b[33;43m\"\u001b[39;49m\u001b[43m,\u001b[49m\u001b[43m \u001b[49m\u001b[33;43m\"\u001b[39;49m\u001b[33;43mTemperature\u001b[39;49m\u001b[33;43m\"\u001b[39;49m\u001b[43m]\u001b[49m\u001b[43m]\u001b[49m.dropna()\n\u001b[32m     13\u001b[39m \u001b[38;5;66;03m# Types + sorting\u001b[39;00m\n\u001b[32m     14\u001b[39m nyc_df[\u001b[33m\"\u001b[39m\u001b[33mYear\u001b[39m\u001b[33m\"\u001b[39m] = nyc_df[\u001b[33m\"\u001b[39m\u001b[33mYear\u001b[39m\u001b[33m\"\u001b[39m].astype(\u001b[38;5;28mint\u001b[39m)\n",
      "\u001b[36mFile \u001b[39m\u001b[32mc:\\Users\\larry\\Documents\\projects\\datafun-07-ml\\.venv312\\Lib\\site-packages\\pandas\\core\\frame.py:4119\u001b[39m, in \u001b[36mDataFrame.__getitem__\u001b[39m\u001b[34m(self, key)\u001b[39m\n\u001b[32m   4117\u001b[39m     \u001b[38;5;28;01mif\u001b[39;00m is_iterator(key):\n\u001b[32m   4118\u001b[39m         key = \u001b[38;5;28mlist\u001b[39m(key)\n\u001b[32m-> \u001b[39m\u001b[32m4119\u001b[39m     indexer = \u001b[38;5;28;43mself\u001b[39;49m\u001b[43m.\u001b[49m\u001b[43mcolumns\u001b[49m\u001b[43m.\u001b[49m\u001b[43m_get_indexer_strict\u001b[49m\u001b[43m(\u001b[49m\u001b[43mkey\u001b[49m\u001b[43m,\u001b[49m\u001b[43m \u001b[49m\u001b[33;43m\"\u001b[39;49m\u001b[33;43mcolumns\u001b[39;49m\u001b[33;43m\"\u001b[39;49m\u001b[43m)\u001b[49m[\u001b[32m1\u001b[39m]\n\u001b[32m   4121\u001b[39m \u001b[38;5;66;03m# take() does not accept boolean indexers\u001b[39;00m\n\u001b[32m   4122\u001b[39m \u001b[38;5;28;01mif\u001b[39;00m \u001b[38;5;28mgetattr\u001b[39m(indexer, \u001b[33m\"\u001b[39m\u001b[33mdtype\u001b[39m\u001b[33m\"\u001b[39m, \u001b[38;5;28;01mNone\u001b[39;00m) == \u001b[38;5;28mbool\u001b[39m:\n",
      "\u001b[36mFile \u001b[39m\u001b[32mc:\\Users\\larry\\Documents\\projects\\datafun-07-ml\\.venv312\\Lib\\site-packages\\pandas\\core\\indexes\\base.py:6212\u001b[39m, in \u001b[36mIndex._get_indexer_strict\u001b[39m\u001b[34m(self, key, axis_name)\u001b[39m\n\u001b[32m   6209\u001b[39m \u001b[38;5;28;01melse\u001b[39;00m:\n\u001b[32m   6210\u001b[39m     keyarr, indexer, new_indexer = \u001b[38;5;28mself\u001b[39m._reindex_non_unique(keyarr)\n\u001b[32m-> \u001b[39m\u001b[32m6212\u001b[39m \u001b[38;5;28;43mself\u001b[39;49m\u001b[43m.\u001b[49m\u001b[43m_raise_if_missing\u001b[49m\u001b[43m(\u001b[49m\u001b[43mkeyarr\u001b[49m\u001b[43m,\u001b[49m\u001b[43m \u001b[49m\u001b[43mindexer\u001b[49m\u001b[43m,\u001b[49m\u001b[43m \u001b[49m\u001b[43maxis_name\u001b[49m\u001b[43m)\u001b[49m\n\u001b[32m   6214\u001b[39m keyarr = \u001b[38;5;28mself\u001b[39m.take(indexer)\n\u001b[32m   6215\u001b[39m \u001b[38;5;28;01mif\u001b[39;00m \u001b[38;5;28misinstance\u001b[39m(key, Index):\n\u001b[32m   6216\u001b[39m     \u001b[38;5;66;03m# GH 42790 - Preserve name from an Index\u001b[39;00m\n",
      "\u001b[36mFile \u001b[39m\u001b[32mc:\\Users\\larry\\Documents\\projects\\datafun-07-ml\\.venv312\\Lib\\site-packages\\pandas\\core\\indexes\\base.py:6264\u001b[39m, in \u001b[36mIndex._raise_if_missing\u001b[39m\u001b[34m(self, key, indexer, axis_name)\u001b[39m\n\u001b[32m   6261\u001b[39m     \u001b[38;5;28;01mraise\u001b[39;00m \u001b[38;5;167;01mKeyError\u001b[39;00m(\u001b[33mf\u001b[39m\u001b[33m\"\u001b[39m\u001b[33mNone of [\u001b[39m\u001b[38;5;132;01m{\u001b[39;00mkey\u001b[38;5;132;01m}\u001b[39;00m\u001b[33m] are in the [\u001b[39m\u001b[38;5;132;01m{\u001b[39;00maxis_name\u001b[38;5;132;01m}\u001b[39;00m\u001b[33m]\u001b[39m\u001b[33m\"\u001b[39m)\n\u001b[32m   6263\u001b[39m not_found = \u001b[38;5;28mlist\u001b[39m(ensure_index(key)[missing_mask.nonzero()[\u001b[32m0\u001b[39m]].unique())\n\u001b[32m-> \u001b[39m\u001b[32m6264\u001b[39m \u001b[38;5;28;01mraise\u001b[39;00m \u001b[38;5;167;01mKeyError\u001b[39;00m(\u001b[33mf\u001b[39m\u001b[33m\"\u001b[39m\u001b[38;5;132;01m{\u001b[39;00mnot_found\u001b[38;5;132;01m}\u001b[39;00m\u001b[33m not in index\u001b[39m\u001b[33m\"\u001b[39m)\n",
      "\u001b[31mKeyError\u001b[39m: \"['Temperature'] not in index\""
     ]
    }
   ],
   "source": [
    "# Rename columns to match project convention\n",
    "nyc_df = nyc_df.rename(columns={\n",
    "    \"Date\": \"Year\",\n",
    "    \"Value\": \"Temperature\"\n",
    "})\n",
    "\n",
    "# Keep only the two relevant columns\n",
    "nyc_df = nyc_df[[\"Year\", \"Temperature\"]].dropna()\n",
    "\n",
    "# Convert data types\n",
    "nyc_df[\"Year\"] = nyc_df[\"Year\"].astype(int)\n",
    "nyc_df[\"Temperature\"] = nyc_df[\"Temperature\"].astype(float)\n",
    "\n",
    "nyc_df.head()\n"
   ]
  },
  {
   "cell_type": "markdown",
   "id": "d902f9fd",
   "metadata": {},
   "source": [
    "### Section 4 - Descriptive Statistics\n"
   ]
  },
  {
   "cell_type": "code",
   "execution_count": null,
   "id": "e9b47f0d",
   "metadata": {},
   "outputs": [],
   "source": [
    "pd.set_option('display.precision', 2)\n",
    "nyc_df.describe()\n",
    "\n"
   ]
  },
  {
   "cell_type": "markdown",
   "id": "04fd32df",
   "metadata": {},
   "source": [
    "### Section 5 - Build the Model\n"
   ]
  },
  {
   "cell_type": "code",
   "execution_count": null,
   "id": "cdc2fb61",
   "metadata": {},
   "outputs": [],
   "source": [
    "from scipy import stats\n",
    "\n",
    "lin = stats.linregress(x=nyc_df[\"Year\"], y=nyc_df[\"Temperature\"])\n",
    "print(\"Slope (m):\", lin.slope)\n",
    "print(\"Intercept (b):\", lin.intercept)\n",
    "print(\"R-value:\", lin.rvalue)\n",
    "print(\"P-value:\", lin.pvalue)\n",
    "print(\"Standard error:\", lin.stderr)\n",
    "\n"
   ]
  },
  {
   "cell_type": "markdown",
   "id": "a2d45fa2",
   "metadata": {},
   "source": [
    "### Section 6 - Predict\n"
   ]
  },
  {
   "cell_type": "code",
   "execution_count": null,
   "id": "bdb459cc",
   "metadata": {},
   "outputs": [],
   "source": [
    "pred_2024_part2 = lin.slope * 2024 + lin.intercept\n",
    "print(\"Predicted Avg High in Jan 2024:\", round(pred_2024_part2, 2), \"°F\")\n"
   ]
  },
  {
   "cell_type": "markdown",
   "id": "69db66ae",
   "metadata": {},
   "source": [
    "### Section 7 - Visualizations\n"
   ]
  },
  {
   "cell_type": "code",
   "execution_count": null,
   "id": "6c0f41c1",
   "metadata": {},
   "outputs": [],
   "source": [
    "import numpy as np\n",
    "import matplotlib.pyplot as plt\n",
    "import seaborn as sns\n",
    "\n",
    "fig = plt.figure(figsize=(7,4))\n",
    "sns.scatterplot(x=\"Year\", y=\"Temperature\", data=nyc_df, s=20, color=\"blue\")\n",
    "\n",
    "# best-fit line\n",
    "xs = np.linspace(nyc_df[\"Year\"].min(), 2024, 200)\n",
    "ys = lin.slope * xs + lin.intercept\n",
    "plt.plot(xs, ys, color=\"red\", linewidth=2)\n",
    "\n",
    "plt.title(\"NYC Avg High in January — SciPy Best-Fit Line\")\n",
    "plt.xlabel(\"Year\")\n",
    "plt.ylabel(\"Temperature (°F)\")\n",
    "plt.tight_layout()\n",
    "plt.savefig(\"../charts/part2_nyc_scipy.png\", dpi=200)\n",
    "plt.show()\n"
   ]
  }
 ],
 "metadata": {
  "kernelspec": {
   "display_name": ".venv312",
   "language": "python",
   "name": "python3"
  },
  "language_info": {
   "codemirror_mode": {
    "name": "ipython",
    "version": 3
   },
   "file_extension": ".py",
   "mimetype": "text/x-python",
   "name": "python",
   "nbconvert_exporter": "python",
   "pygments_lexer": "ipython3",
   "version": "3.12.10"
  }
 },
 "nbformat": 4,
 "nbformat_minor": 5
}
